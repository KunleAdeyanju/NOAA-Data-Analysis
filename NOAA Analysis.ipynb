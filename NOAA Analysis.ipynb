{
 "cells": [
  {
   "cell_type": "markdown",
   "metadata": {},
   "source": [
    "<h1 style=\"text-align: center;\">NOAA Data Analysis</h1>"
   ]
  },
  {
   "cell_type": "code",
   "execution_count": null,
   "metadata": {},
   "outputs": [],
   "source": [
    "# importing all libraries\n",
    "import urllib.request\n",
    "import urllib.error\n",
    "import json\n",
    "import os\n",
    "from key import token "
   ]
  },
  {
   "cell_type": "code",
   "execution_count": null,
   "metadata": {},
   "outputs": [],
   "source": [
    "def call_api(url, token):\n",
    "    \"\"\"\n",
    "    Make a GET request to the API and return a JSON response\n",
    "\n",
    "    Args:\n",
    "        url (str): The API endpoint URL\n",
    "        token (str): The API token for authentication\n",
    "    Returns:\n",
    "        dict: The parsed JSON response from the API\n",
    "    Summary of What Happens\n",
    "    1. A Request object is created for the URL.\n",
    "    2. A custom header (token) is added to the request.\n",
    "    3. The request is sent to the server using urlopen.\n",
    "    4. The server's response is read, decoded from bytes to a string, and parsed as JSON.\n",
    "    5. The resulting Python object (data) contains the parsed JSON data.\n",
    "    \"\"\"\n",
    "    try:\n",
    "        req = urllib.request.Request(url)\n",
    "        req.add_header('token', token)\n",
    "        with urllib.request.urlopen(req) as response:\n",
    "            data = json.loads(response.read().decode('utf-8'))\n",
    "            # Get the remaining rate limit from the headers\n",
    "            rate_limit_remaining = int(response.headers.get('X-RateLimit-Remaining', 0))\n",
    "            return data, rate_limit_remaining\n",
    "\n",
    "    except urllib.error.HTTPError as e:\n",
    "        # Handle HTTP errors (e.g., 404, 401)\n",
    "        print(f\"HTTP Error: {e.code} - {e.reason}\")\n",
    "    except urllib.error.URLError as e:\n",
    "        # Handle URL errors (e.g., network issues)\n",
    "        print(f\"URL Error: {e.reason}\")\n",
    "    except json.JSONDecodeError as e:\n",
    "        # Handle JSON parsing errors\n",
    "        print(f\"JSON Decode Error: {e.msg}\")\n",
    "    except Exception as e:\n",
    "        # Handle any other unexpected errors\n",
    "        print(f\"An unexpected error occurred: {e}\")\n",
    "\n",
    "    return None,0  # Return None if an error occurs"
   ]
  },
  {
   "cell_type": "code",
   "execution_count": null,
   "metadata": {},
   "outputs": [],
   "source": [
    "def save_json_to_file(data, filename):\n",
    "    \"\"\"\n",
    "    Save JSON data to a file\n",
    "\n",
    "    Args:\n",
    "        data (dict): The JSON data to save\n",
    "        filename (str): The name of the file to save the data to\n",
    "    \"\"\"\n",
    "    try:\n",
    "        with open(filename, 'w') as f:\n",
    "            json.dump(data, f, indent=4) # Pretty print the JSON, the indentation level is 4 spaces\n",
    "            print(f'Data saved to {filename}')\n",
    "    except IOError as e:\n",
    "        # Handle file I/O errors\n",
    "        print(f'File I/O Error: {e}')\n",
    "    except Exception as e:\n",
    "        # Handle any other unexpected errors\n",
    "        print(f'An unexpected error occurred while saving the file: {e}')"
   ]
  },
  {
   "cell_type": "code",
   "execution_count": null,
   "metadata": {},
   "outputs": [],
   "source": [
    "web_site = 'https://www.ncdc.noaa.gov/cdo-web/api/v2/locations'\n",
    "\n",
    "limit = 1000  # The maximum number of records to retrieve in one request\n",
    "offset_increment = limit  # Increment offset by the limit for each request\n",
    "\n",
    "\n",
    "\n",
    "for i in range(0,40):  # Loop 39 times to create 39 files\n",
    "    offset = i * offset_increment  # Calculate the offset for this iteration\n",
    "    url = f\"{web_site}?limit={limit}&offset={offset}\"  # Construct the URL\n",
    "    output_file = f\"locations_{i}.json\"  # Name the output file\n",
    "\n",
    "    print(f\"Calling API with: {url}\")\n",
    "    response, remaining_requests = call_api(url, token)\n",
    "\n",
    "        # Check if the response is valid\n",
    "    if response:\n",
    "        results = response.get('results', [])\n",
    "        print(f\"Fetched {len(results)} records in this batch.\")\n",
    "\n",
    "        # Save the response to a file\n",
    "        save_json_to_file(response, output_file)\n",
    "        print(f\"Data saved to {output_file}\")\n",
    "\n",
    "        # Stop if fewer records are returned than the limit\n",
    "        if len(results) < limit:\n",
    "            print(\"No more records to fetch.\")\n",
    "            break\n",
    "    else:\n",
    "        print(f\"Failed to retrieve data for offset {offset}, exiting loop.\")\n",
    "        break\n",
    "\n",
    "print(\"All files saved successfully.\")\n"
   ]
  },
  {
   "cell_type": "markdown",
   "metadata": {},
   "source": []
  }
 ],
 "metadata": {
  "kernelspec": {
   "display_name": "Python 3",
   "language": "python",
   "name": "python3"
  },
  "language_info": {
   "name": "python",
   "version": "3.11.9"
  }
 },
 "nbformat": 4,
 "nbformat_minor": 2
}
